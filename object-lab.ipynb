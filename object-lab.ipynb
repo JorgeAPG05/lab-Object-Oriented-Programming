{
 "cells": [
  {
   "cell_type": "code",
   "execution_count": 1,
   "id": "34daac59-16fb-4d49-8e6f-6d6ea71dc8ae",
   "metadata": {
    "tags": []
   },
   "outputs": [
    {
     "name": "stdout",
     "output_type": "stream",
     "text": [
      "{'on': False, 'size': 55, 'volume': 50.0, 'active_channel': 1, 'input': 'Anthena'}\n",
      "{'on': True, 'size': 55, 'volume': 75, 'active_channel': 5, 'input': 'HDMI2'}\n"
     ]
    }
   ],
   "source": [
    "class TV:\n",
    "    def __init__(self, size: float, active_channel: int = 1, volume: float = 50.0, input_source: str = \"Anthena\"):\n",
    "        if size not in [42, 50, 55, 65, 75]:\n",
    "            raise ValueError(\"Invalid TV size. Supported sizes are 42, 50, 55, 65, 75.\")\n",
    "        self.on = False\n",
    "        self.size = size\n",
    "        self.volume = volume\n",
    "        self.active_channel = active_channel\n",
    "        self.input = input_source\n",
    "\n",
    "    def switch_on(self):\n",
    "        self.on = True\n",
    "\n",
    "    def switch_off(self):\n",
    "        self.on = False\n",
    "\n",
    "    def set_volume(self, volume: float):\n",
    "        if 0 <= volume <= 100:\n",
    "            self.volume = volume\n",
    "        else:\n",
    "            raise ValueError(\"Invalid volume. Volume should be in the range [0, 100].\")\n",
    "\n",
    "    def change_channel(self, channel: int):\n",
    "        if 1 <= channel <= 10:\n",
    "            self.active_channel = channel\n",
    "        else:\n",
    "            raise ValueError(\"Invalid channel. Channel should be in the range [1, 10].\")\n",
    "\n",
    "    def set_input(self, input_source: str):\n",
    "        valid_inputs = [\"Anthena\", \"HDMI1\", \"HDMI2\", \"HDMI3\"]\n",
    "        if input_source in valid_inputs:\n",
    "            self.input = input_source\n",
    "        else:\n",
    "            raise ValueError(\"Invalid input source. Supported sources are Anthena, HDMI1, HDMI2, HDMI3.\")\n",
    "\n",
    "\n",
    "tv = TV(size=55)\n",
    "print(tv.__dict__)\n",
    "\n",
    "tv.switch_on()\n",
    "tv.set_volume(75)\n",
    "tv.change_channel(5)\n",
    "tv.set_input(\"HDMI2\")\n",
    "\n",
    "print(tv.__dict__)\n",
    "\n"
   ]
  },
  {
   "cell_type": "code",
   "execution_count": 3,
   "id": "5a6f53f2-1c9a-4923-a12e-50d8178cffc3",
   "metadata": {
    "tags": []
   },
   "outputs": [
    {
     "name": "stdout",
     "output_type": "stream",
     "text": [
      "{'on': False, 'size': 55, 'volume': 75, 'active_channel': 5, 'input': 'HDMI2'}\n"
     ]
    }
   ],
   "source": [
    "tv.switch_off()\n",
    "print(tv.__dict__)"
   ]
  },
  {
   "cell_type": "code",
   "execution_count": null,
   "id": "d5c68e15-ab1e-436f-9b77-06b87967fdf3",
   "metadata": {},
   "outputs": [],
   "source": []
  }
 ],
 "metadata": {
  "kernelspec": {
   "display_name": "Python 3 (ipykernel)",
   "language": "python",
   "name": "python3"
  },
  "language_info": {
   "codemirror_mode": {
    "name": "ipython",
    "version": 3
   },
   "file_extension": ".py",
   "mimetype": "text/x-python",
   "name": "python",
   "nbconvert_exporter": "python",
   "pygments_lexer": "ipython3",
   "version": "3.11.5"
  }
 },
 "nbformat": 4,
 "nbformat_minor": 5
}
